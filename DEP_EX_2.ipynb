{
 "cells": [
  {
   "cell_type": "code",
   "execution_count": 1,
   "id": "a05627e7-ce7e-4515-be7c-e3766b155d17",
   "metadata": {},
   "outputs": [],
   "source": [
    "# Experiment 1 - Image_Acqusition-_using_Web_Camera\n",
    " # Name: AANKARSH.J\n",
    " # Register Number: 212223233001"
   ]
  },
  {
   "cell_type": "code",
   "execution_count": null,
   "id": "7b7f0803-0f46-4e51-bd83-1af7eb7f9059",
   "metadata": {},
   "outputs": [],
   "source": [
    "import cv2\n",
    "viedoCaptureObject=cv2.VideoCapture(0)\n",
    "ret,frame=viedoCaptureObject.read()\n",
    "cv2.imwrite(\"212223233001_Aankarsh.jpg\",frame)\n",
    "viedoCaptureObject.release()\n",
    "cv2.destroyAllWindows()"
   ]
  },
  {
   "cell_type": "code",
   "execution_count": null,
   "id": "75228afc-9735-4269-9aac-d7509fbcf285",
   "metadata": {},
   "outputs": [],
   "source": [
    "import numpy as np\n",
    "import cv2\n",
    "cap=cv2.VideoCapture(0)\n",
    "ret,frame=cap.read()\n",
    "cv2.imshow('video_Aankarsh',frame)\n",
    "cv2.imwrite('video_Aankarsh.jpg',frame)\n",
    "cv2.waitKey(10000)\n",
    "cap.release()\n",
    "cv2.destroyAllWindows()"
   ]
  },
  {
   "cell_type": "code",
   "execution_count": null,
   "id": "12444c8f-b333-4224-984a-5a6d9862d124",
   "metadata": {},
   "outputs": [],
   "source": [
    "import cv2\n",
    "import numpy as np\n",
    "cap  = cv2.VideoCapture(0)\n",
    "ret,frame = cap.read()\n",
    "width = int(cap.get(3))\n",
    "height = int(cap.get(4))\n",
    "image = np.zeros(frame.shape, np.uint8)\n",
    "small_frame = cv2.resize(frame,(0,0),fx =0.5, fy = 0.5)\n",
    "image[:height//2, :width//2]=small_frame\n",
    "image[height//2:, :width//2]=small_frame\n",
    "image[:height//2, width//2:]=small_frame\n",
    "image[height//2:, width//2:]=small_frame\n",
    "cv2.imshow('',image)\n",
    "cv2.waitKey(5000)\n",
    "image_dict={'captured_Aankarsh1':image}\n",
    "cv2.imwrite('captured_Aankarsh1.jpg',image)\n",
    "cap.release()\n",
    "cv2.destroyAllWindows()"
   ]
  },
  {
   "cell_type": "code",
   "execution_count": null,
   "id": "e612df94-1cf7-41a9-a8a0-98550f685159",
   "metadata": {},
   "outputs": [],
   "source": [
    "import cv2\n",
    "import numpy as np\n",
    "cap  = cv2.VideoCapture(0)\n",
    "while True:\n",
    "    ret,frame = cap.read()\n",
    "    width = int(cap.get(3))\n",
    "    height = int(cap.get(4))\n",
    "    image = np.zeros(frame.shape, np.uint8)\n",
    "    small_frame = cv2.resize(frame,(0,0),fx =0.5, fy = 0.5)\n",
    "    image[:height//2, :width//2]=cv2.rotate(small_frame,cv2.ROTATE_180)\n",
    "    image[height//2:, :width//2]=small_frame\n",
    "    image[:height//2, width//2:]=small_frame\n",
    "    image[height//2:, width//2:]=cv2.rotate(small_frame,cv2.ROTATE_180)\n",
    "    cv2.imshow('Aankarsh_split',image)\n",
    "    cv2.imwrite('Aankarsh_split.jpg',image)\n",
    "    if cv2.waitKey(1) == ord('q'):\n",
    "        break\n",
    "cap.release()\n",
    "cv2.destroyAllWindows()\n"
   ]
  },
  {
   "cell_type": "code",
   "execution_count": null,
   "id": "d5c9befe-b1f8-4cfc-8801-1591199c914d",
   "metadata": {},
   "outputs": [],
   "source": []
  }
 ],
 "metadata": {
  "kernelspec": {
   "display_name": "Python 3 (ipykernel)",
   "language": "python",
   "name": "python3"
  },
  "language_info": {
   "codemirror_mode": {
    "name": "ipython",
    "version": 3
   },
   "file_extension": ".py",
   "mimetype": "text/x-python",
   "name": "python",
   "nbconvert_exporter": "python",
   "pygments_lexer": "ipython3",
   "version": "3.13.5"
  }
 },
 "nbformat": 4,
 "nbformat_minor": 5
}
